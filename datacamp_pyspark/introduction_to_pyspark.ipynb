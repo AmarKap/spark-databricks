{
    "metadata": {
        "kernelspec": {
            "name": "python3",
            "display_name": "Python 3"
        },
        "language_info": {
            "name": "python",
            "version": "3.8.3",
            "mimetype": "text/x-python",
            "codemirror_mode": {
                "name": "ipython",
                "version": 3
            },
            "pygments_lexer": "ipython3",
            "nbconvert_exporter": "python",
            "file_extension": ".py"
        }
    },
    "nbformat_minor": 2,
    "nbformat": 4,
    "cells": [
        {
            "cell_type": "markdown",
            "source": [
                "What is Spark, anyway?\r\n",
                "\r\n",
                "Spark is a platform for cluster computing. Spark lets you spread data and computations over clusters with multiple nodes (think of each node as a separate computer). Splitting up your data makes it easier to work with very large datasets because each node only works with a small amount of data.\r\n",
                "\r\n",
                "As each node works on its own subset of the total data, it also carries out a part of the total calculations required, so that both data processing and computation are performed in parallel over the nodes in the cluster. It is a fact that parallel computation can make certain types of programming tasks much faster.\r\n",
                "\r\n",
                "However, with greater computing power comes greater complexity.\r\n",
                "\r\n",
                "Deciding whether or not Spark is the best solution for your problem takes some experience, but you can consider questions like:\r\n",
                "\t• Is my data too big to work with on a single machine?\r\n",
                "\t• Can my calculations be easily parallelized?\r\n",
                "\r\n",
                "\r\n",
                "\r\n",
                "In practice, the cluster will be hosted on a remote machine that's connected to all other nodes. There will be one computer, called the master that manages splitting up the data and the computations. The master is connected to the rest of the computers in the cluster, which are called worker. The master sends the workers data and calculations to run, and they send their results back to the master.\r\n",
                "\r\n",
                "When you're just getting started with Spark it's simpler to just run a cluster locally. Thus, for this course, instead of connecting to another computer, all computations will be run on DataCamp's servers in a simulated cluster.\r\n",
                "Creating the connection is as simple as creating an instance of the SparkContext class. The class constructor takes a few optional arguments that allow you to specify the attributes of the cluster you're connecting to.\r\n",
                "An object holding all these attributes can be created with the SparkConf() constructor. Take a look at the documentation for all the details!\r\n",
                "For the rest of this course you'll have a SparkContext called sc already available in your workspace.\r\n",
                ""
            ],
            "metadata": {
                "azdata_cell_guid": "e08b5937-fafc-4ef0-96a7-677c929ec257"
            }
        },
        {
            "cell_type": "code",
            "source": [
                "# Verify SparkContext\r\n",
                "print(sc)\r\n",
                "\r\n",
                "# Print Spark version\r\n",
                "print(sc.version)"
            ],
            "metadata": {
                "azdata_cell_guid": "92a9e5df-3a21-43c1-8c8a-20e5b9495d91",
                "tags": []
            },
            "outputs": [],
            "execution_count": null
        },
        {
            "cell_type": "markdown",
            "source": [
                "Using DataFrames\r\n",
                "Spark's core data structure is the Resilient Distributed Dataset (RDD). This is a low level object that lets Spark work its magic by splitting data across multiple nodes in the cluster. However, RDDs are hard to work with directly, so in this course you'll be using the Spark DataFrame abstraction built on top of RDDs.\r\n",
                "\r\n",
                "The Spark DataFrame was designed to behave a lot like a SQL table (a table with variables in the columns and observations in the rows). Not only are they easier to understand, DataFrames are also more optimized for complicated operations than RDDs.\r\n",
                "\r\n",
                "When you start modifying and combining columns and rows of data, there are many ways to arrive at the same result, but some often take much longer than others. When using RDDs, it's up to the data scientist to figure out the right way to optimize the query, but the DataFrame implementation has much of this optimization built in!\r\n",
                "\r\n",
                "To start working with Spark DataFrames, you first have to create a SparkSession object from your SparkContext. You can think of the SparkContext as your connection to the cluster and the SparkSession as your interface with that connection.\r\n",
                "\r\n",
                "Creating a SparkSession\r\n",
                "We've already created a SparkSession for you called spark, but what if you're not sure there already is one? Creating multiple SparkSessions and SparkContexts can cause issues, so it's best practice to use the SparkSession.builder.getOrCreate() method. This returns an existing SparkSession if there's already one in the environment, or creates a new one if necessary!\r\n",
                "\r\n",
                "\r\n",
                "1. Import SparkSession from pyspark.sql.\r\n",
                "2. Make a new SparkSession called my_spark using SparkSession.builder.getOrCreate().\r\n",
                "3. Print my_spark to the console to verify it's a SparkSession.\r\n",
                ""
            ],
            "metadata": {
                "azdata_cell_guid": "c8589a49-5434-4ca9-bab8-6ae2584dced9"
            }
        },
        {
            "cell_type": "code",
            "source": [
                "# Import SparkSession from pyspark.sql\r\n",
                "from pyspark.sql import SparkSession\r\n",
                "\r\n",
                "# Create my_spark\r\n",
                "my_spark = SparkSession.builder.getOrCreate()\r\n",
                "\r\n",
                "# Print my_spark\r\n",
                "print(my_spark)"
            ],
            "metadata": {
                "azdata_cell_guid": "c42f5174-9f00-47e2-8d6e-30a336e16d77"
            },
            "outputs": [],
            "execution_count": null
        },
        {
            "cell_type": "markdown",
            "source": [
                "Viewing tables\r\n",
                "\r\n",
                "Once you've created a SparkSession, you can start poking around to see what data is in your cluster!\r\n",
                "\r\n",
                "Your SparkSession has an attribute called catalog which lists all the data inside the cluster. This attribute has a few methods for extracting different pieces of information.\r\n",
                "\r\n",
                "One of the most useful is the .listTables() method, which returns the names of all the tables in your cluster as a list.\r\n",
                "\r\n",
                "\r\n",
                "1. See what tables are in your cluster by calling spark.catalog.listTables() and printing the result!\r\n",
                ""
            ],
            "metadata": {
                "azdata_cell_guid": "e717980e-9642-4862-954c-15d873aaa33c"
            }
        },
        {
            "cell_type": "code",
            "source": [
                "# Print the tables in the catalog\r\n",
                "print(spark.catalog.listTables())"
            ],
            "metadata": {
                "azdata_cell_guid": "4df90347-afd6-4f9d-82e1-76cce6e49850"
            },
            "outputs": [],
            "execution_count": null
        },
        {
            "cell_type": "markdown",
            "source": [
                "One of the advantages of the DataFrame interface is that you can run SQL queries on the tables in your Spark cluster\r\n",
                "\r\n",
                "Running a query on this table is as easy as using the .sql() method on your SparkSession. This method takes a string containing the query and returns a DataFrame with the results!\r\n",
                "\r\n",
                "If you look closely, you'll notice that the table flights is only mentioned in the query, not as an argument to any of the methods. This is because there isn't a local object in your environment that holds that data, so it wouldn't make sense to pass the table as an argument.\r\n",
                "\r\n",
                "Remember, we've already created a SparkSession called spark in your workspace. (It's no longer called my_spark because we created it for you!)\r\n",
                "\r\n",
                "Use the .sql() method to get the first 10 rows of the flights table and save the result to flights10. The variable query contains the appropriate SQL query.\r\n",
                "Use the DataFrame method .show() to print flights10."
            ],
            "metadata": {
                "azdata_cell_guid": "8427f0d0-c964-44a6-a736-112fbd765d87"
            }
        },
        {
            "cell_type": "code",
            "source": [
                "# Don't change this query\r\n",
                "query = \"FROM flights SELECT * LIMIT 10\"\r\n",
                "\r\n",
                "# Get the first 10 rows of flights\r\n",
                "flights10 = spark.sql(query)\r\n",
                "\r\n",
                "# Show the results\r\n",
                "flights10.show()"
            ],
            "metadata": {
                "azdata_cell_guid": "c4a9fbc1-ec82-4df0-bddc-957c34c15dd3"
            },
            "outputs": [],
            "execution_count": null
        },
        {
            "cell_type": "markdown",
            "source": [
                "Pandafy a Spark DataFrame\r\n",
                "\r\n",
                "Suppose you've run a query on your huge dataset and aggregated it down to something a little more manageable.\r\n",
                "\r\n",
                "Sometimes it makes sense to then take that table and work with it locally using a tool like pandas. Spark DataFrames make that easy with the .toPandas() method. Calling this method on a Spark DataFrame returns the corresponding pandas DataFrame. It's as simple as that!\r\n",
                "\r\n",
                "Run the query using the .sql() method. Save the result in flight_counts.\r\n",
                "\r\n",
                "Use the .toPandas() method on flight_counts to create a pandas DataFrame called pd_counts.\r\n",
                "\r\n",
                "Print the .head() of pd_counts to the console."
            ],
            "metadata": {
                "azdata_cell_guid": "1ca8f4e3-cb5a-4308-ae8c-85c7d13722bb"
            }
        },
        {
            "cell_type": "code",
            "source": [
                "# Don't change this query\r\n",
                "query = \"SELECT origin, dest, COUNT(*) as N FROM flights GROUP BY origin, dest\"\r\n",
                "\r\n",
                "# Run the query\r\n",
                "flight_counts = spark.sql(query)\r\n",
                "\r\n",
                "# Convert the results to a pandas DataFrame\r\n",
                "pd_counts = flight_counts.toPandas()\r\n",
                "\r\n",
                "# Print the head of pd_counts\r\n",
                "print(pd_counts.head())\r\n",
                ""
            ],
            "metadata": {
                "azdata_cell_guid": "eb2795b7-eeac-4bba-aafe-d5647a0c39f3"
            },
            "outputs": [],
            "execution_count": null
        },
        {
            "cell_type": "markdown",
            "source": [
                "Put some Spark in your data\r\n",
                "\r\n",
                "In the last exercise, you saw how to move data from Spark to pandas. However, maybe you want to go the other direction, and put a pandas DataFrame into a Spark cluster! The SparkSession class has a method for this as well.\r\n",
                "\r\n",
                "The .createDataFrame() method takes a pandas DataFrame and returns a Spark DataFrame.\r\n",
                "\r\n",
                "The output of this method is stored locally, not in the SparkSession catalog. This means that you can use all the Spark DataFrame methods on it, but you can't access the data in other contexts.\r\n",
                "\r\n",
                "For example, a SQL query (using the .sql() method) that references your DataFrame will throw an error. To access the data in this way, you have to save it as a temporary table.\r\n",
                "\r\n",
                "You can do this using the .createTempView() Spark DataFrame method, which takes as its only argument the name of the temporary table you'd like to register. This method registers the DataFrame as a table in the catalog, but as this table is temporary, it can only be accessed from the specific SparkSession used to create the Spark DataFrame.\r\n",
                "\r\n",
                "There is also the method .createOrReplaceTempView(). This safely creates a new temporary table if nothing was there before, or updates an existing table if one was already defined. You'll use this method to avoid running into problems with duplicate tables.\r\n",
                "\r\n",
                "1. The code to create a pandas DataFrame of random numbers has already been provided and saved under pd_temp.\r\n",
                "\r\n",
                "2. Create a Spark DataFrame called spark_temp by calling the .createDataFrame() method with pd_temp as the argument.\r\n",
                "\r\n",
                "3. Examine the list of tables in your Spark cluster and verify that the new DataFrame is not present. Remember you can use spark.catalog.listTables() to do so.\r\n",
                "\r\n",
                "4. Register spark_temp as a temporary table named \"temp\" using the .createOrReplaceTempView() method. Remember that the table name is set including it as the only argument!\r\n",
                "\r\n",
                "5. Examine the list of tables again!\r\n",
                ""
            ],
            "metadata": {
                "azdata_cell_guid": "95dac7fe-1d08-464f-b906-2e636ad5dcb4"
            }
        },
        {
            "cell_type": "markdown",
            "source": [
                "![](/Images/Put_some_Spark_in_your_data.png)"
            ],
            "metadata": {
                "azdata_cell_guid": "19774705-8f87-4eab-8c1d-476b70080f74"
            }
        },
        {
            "cell_type": "code",
            "source": [
                "# Create pd_temp\r\n",
                "pd_temp = pd.DataFrame(np.random.random(10))\r\n",
                "\r\n",
                "# Create spark_temp from pd_temp\r\n",
                "spark_temp = spark.createDataFrame(pd_temp)\r\n",
                "\r\n",
                "# Examine the tables in the catalog\r\n",
                "print(spark.catalog.listTables())\r\n",
                "\r\n",
                "# Add spark_temp to the catalog\r\n",
                "spark_temp.createOrReplaceTempView('temp')\r\n",
                "\r\n",
                "# Examine the tables in the catalog again\r\n",
                "print(spark.catalog.listTables())"
            ],
            "metadata": {
                "azdata_cell_guid": "b7ad84f7-7708-482e-8f80-56a50dfcbbd4"
            },
            "outputs": [],
            "execution_count": null
        },
        {
            "cell_type": "markdown",
            "source": [
                "Dropping the middle man\r\n",
                "\r\n",
                "Now you know how to put data into Spark via pandas, but you're probably wondering why deal with pandas at all? Wouldn't it be easier to just read a text file straight into Spark? Of course it would!\r\n",
                "\r\n",
                "Luckily, your SparkSession has a .read attribute which has several methods for reading different data sources into Spark DataFrames. Using these you can create a DataFrame from a .csv file just like with regular pandas DataFrames!\r\n",
                "\r\n",
                "The variable file_path is a string with the path to the file airports.csv. This file contains information about different airports all over the world.\r\n",
                "\r\n",
                "A SparkSession named spark is available in your workspace.\r\n",
                "\r\n",
                "1. Use the .read.csv() method to create a Spark DataFrame called airports\r\n",
                "2. The first argument is file_path\r\n",
                "3. Pass the argument header=True so that Spark knows to take the column names from the first line of the file.\r\n",
                "4. Print out this DataFrame by calling .show()."
            ],
            "metadata": {
                "azdata_cell_guid": "27b8d1df-5a63-471d-8efa-f65e656369e2"
            }
        },
        {
            "cell_type": "code",
            "source": [
                "# Don't change this file path\r\n",
                "file_path = \"/usr/local/share/datasets/airports.csv\"\r\n",
                "\r\n",
                "# Read in the airports data\r\n",
                "airports = spark.read.csv(file_path, header=True)\r\n",
                "\r\n",
                "# Show the data\r\n",
                "airports.show()\r\n",
                ""
            ],
            "metadata": {
                "azdata_cell_guid": "bd065187-7d7b-4909-a4b4-121f439224e9"
            },
            "outputs": [],
            "execution_count": null
        },
        {
            "cell_type": "markdown",
            "source": [
                "Creating columns\r\n",
                "\r\n",
                "In this chapter, you'll learn how to use the methods defined by Spark's DataFrame class to perform common data operations.\r\n",
                "\r\n",
                "Let's look at performing column-wise operations. In Spark you can do this using the .withColumn() method, which takes two arguments. First, a string with the name of your new column, and second the new column itself.\r\n",
                "\r\n",
                "The new column must be an object of class Column. Creating one of these is as easy as extracting a column from your DataFrame using df.colName.\r\n",
                "\r\n",
                "Updating a Spark DataFrame is somewhat different than working in pandas because the Spark DataFrame is immutable. This means that it can't be changed, and so columns can't be updated in place.\r\n",
                "\r\n",
                "Thus, all these methods return a new DataFrame. To overwrite the original DataFrame you must reassign the returned DataFrame using the method like so:\r\n",
                "\r\n",
                "df = df.withColumn(\"newCol\", df.oldCol + 1)\r\n",
                "The above code creates a DataFrame with the same columns as df plus a new column, newCol, where every entry is equal to the corresponding entry from oldCol, plus one.\r\n",
                "\r\n",
                "To overwrite an existing column, just pass the name of the column as the first argument!\r\n",
                "\r\n",
                "Remember, a SparkSession called spark is already in your workspace.\r\n",
                "\r\n",
                "1. Use the spark.table() method with the argument \"flights\" to create a DataFrame containing the values of the flights table in the .catalog. Save it as flights.\r\n",
                "2. Show the head of flights using flights.show(). The column air_time contains the duration of the flight in minutes.\r\n",
                "3. Update flights to include a new column called duration_hrs, that contains the duration of each flight in hours.\r\n",
                ""
            ],
            "metadata": {
                "azdata_cell_guid": "b13ee165-2a65-4015-b7ae-3ceadc11a8f2"
            }
        },
        {
            "cell_type": "code",
            "source": [
                "# Create the DataFrame flights\r\n",
                "flights = spark.table(\"flights\")\r\n",
                "\r\n",
                "# Show the head\r\n",
                "flights.show()\r\n",
                "\r\n",
                "# Add duration_hrs\r\n",
                "flights = flights.withColumn(\"duration_hrs\", flights.air_time/60)"
            ],
            "metadata": {
                "azdata_cell_guid": "c329c3ae-cb5f-4671-bc67-d696d489642b"
            },
            "outputs": [],
            "execution_count": null
        },
        {
            "cell_type": "markdown",
            "source": [
                "Filtering Data\r\n",
                "\r\n",
                "The .filter() method takes either an expression that would follow the WHERE clause of a SQL expression as a string, or a Spark Column of boolean (True/False) values.\r\n",
                "\r\n",
                "For example, the following two expressions will produce the same output:\r\n",
                "\r\n",
                ""
            ],
            "metadata": {
                "azdata_cell_guid": "d5cb01fd-8d1e-4cca-9b63-4b8040f555ad"
            }
        },
        {
            "cell_type": "code",
            "source": [
                "flights.filter(\"air_time > 120\").show()\r\n",
                "flights.filter(flights.air_time > 120).show()"
            ],
            "metadata": {
                "azdata_cell_guid": "275d62d6-7923-4d8e-a30a-4dff24d8eaa2"
            },
            "outputs": [],
            "execution_count": null
        },
        {
            "cell_type": "markdown",
            "source": [
                "Spark's .filter() can accept any expression that could go in the WHERE clause of a SQL query (in this case, \"air_time > 120\"), as long as it is passed as a string. Notice that in this case, we do not reference the name of the table in the string -- as we wouldn't in the SQL request.\r\n",
                "\r\n",
                "In the second case, we actually pass a column of boolean values to .filter(). Remember that flights.air_time > 120 returns a column of boolean values that has True in place of those records in flights.air_time that are over 120, and False otherwise."
            ],
            "metadata": {
                "azdata_cell_guid": "02ed84ff-6047-4761-883b-753ff957262e"
            }
        },
        {
            "cell_type": "code",
            "source": [
                "# Filter flights by passing a string\r\n",
                "long_flights1 = flights.filter(\"distance > 1000\")\r\n",
                "\r\n",
                "# Filter flights by passing a column of boolean values\r\n",
                "long_flights2 = flights.filter(flights.distance > 1000)\r\n",
                "\r\n",
                "# Print the data to check they're equal\r\n",
                "long_flights1.show()\r\n",
                "long_flights2.show()"
            ],
            "metadata": {
                "azdata_cell_guid": "7485ba84-50ea-44c4-a6df-e8b08d10a4ec"
            },
            "outputs": [],
            "execution_count": null
        },
        {
            "cell_type": "markdown",
            "source": [
                "Selecting\r\n",
                "\r\n",
                "The Spark variant of SQL's SELECT is the .select() method. This method takes multiple arguments - one for each column you want to select. These arguments can either be the column name as a string (one for each column) or a column object (using the df.colName syntax). When you pass a column object, you can perform operations like addition or subtraction on the column to change the data contained in it, much like inside .withColumn().\r\n",
                "\r\n",
                "The difference between .select() and .withColumn() methods is that .select() returns only the columns you specify, while .withColumn() returns all the columns of the DataFrame in addition to the one you defined. It's often a good idea to drop columns you don't need at the beginning of an operation so that you're not dragging around extra data as you're wrangling. In this case, you would use .select() and not .withColumn().\r\n",
                "\r\n",
                "1. Select the columns tailnum, origin, and dest from flights by passing the column names as strings. Save this as selected1.\r\n",
                "2. Select the columns origin, dest, and carrier using the df.colName syntax and then filter the result using both of the filters already defined for  you (filterA and filterB) to only keep flights from SEA to PDX. Save this as selected2."
            ],
            "metadata": {
                "azdata_cell_guid": "5d0f0fa5-5135-4aaa-83cf-61b7d3e88d4a"
            }
        },
        {
            "cell_type": "code",
            "source": [
                "# Select the first set of columns\r\n",
                "selected1 = flights.select(\"tailnum\", \"origin\", \"dest\")\r\n",
                "\r\n",
                "# Select the second set of columns\r\n",
                "temp = flights.select(flights.origin, flights.dest, flights.carrier)\r\n",
                "\r\n",
                "# Define first filter\r\n",
                "filterA = flights.origin == \"SEA\"\r\n",
                "\r\n",
                "# Define second filter\r\n",
                "filterB = flights.dest == \"PDX\"\r\n",
                "\r\n",
                "# Filter the data, first by filterA then by filterB\r\n",
                "selected2 = temp.filter(filterA).filter(filterB)"
            ],
            "metadata": {
                "azdata_cell_guid": "4581bb10-b9eb-4dc1-b60c-37ed7bec8ed9"
            },
            "outputs": [],
            "execution_count": null
        },
        {
            "cell_type": "markdown",
            "source": [
                "### Selecting II\r\n",
                "\r\n",
                "Similar to SQL, you can also use the .select() method to perform column-wise operations. When you're selecting a column using the df.colName notation, you can perform any column operation and the .select() method will return the transformed column. For example,\r\n",
                "\r\n",
                "`flights.select(flights.air_time/60)` returns a column of flight durations in hours instead of minutes. You can also use the `.alias()` method to rename a column you're selecting. So if you wanted to `.select()` the column duration_hrs (which isn't in your DataFrame) you could do\r\n",
                "`flights.select((flights.air_time/60).alias(\"duration_hrs\"))`.\r\n",
                "\r\n",
                "The equivalent Spark DataFrame method .selectExpr() takes SQL expressions as a string: `flights.selectExpr(\"air_time/60 as duration_hrs\")`\r\n",
                "with the SQL as keyword being equivalent to the `.alias()` method. To select multiple columns, you can pass multiple strings."
            ],
            "metadata": {
                "azdata_cell_guid": "a643c06a-f456-4060-b783-2cb3e48da717"
            }
        },
        {
            "cell_type": "code",
            "source": [
                "# Define avg_speed\r\n",
                "avg_speed = (flights.distance/(flights.air_time/60)).alias(\"avg_speed\")\r\n",
                "\r\n",
                "# Select the correct columns\r\n",
                "speed1 = flights.select(\"origin\", \"dest\", \"tailnum\", avg_speed)\r\n",
                "\r\n",
                "# Create the same table using a SQL expression\r\n",
                "speed2 = flights.selectExpr(\"origin\", \"dest\", \"tailnum\", \"distance/(air_time/60) as avg_speed\")"
            ],
            "metadata": {
                "azdata_cell_guid": "1011741c-95b9-48c5-850b-73bb98f2daf2"
            },
            "outputs": [],
            "execution_count": null
        },
        {
            "cell_type": "markdown",
            "source": [
                "### Aggregating\r\n",
                "\r\n",
                "All of the common aggregation methods, like .min(), .max(), and .count() are GroupedData methods. These are created by calling the `.groupBy()` DataFrame method. You'll learn exactly what that means in a few exercises. For now, all you have to do to use these functions is call that method on your DataFrame. For example, to find the minimum value of a column, col, in a DataFrame, df, you could do\r\n",
                "\r\n",
                "`df.groupBy().min(\"col\").show()` This creates a GroupedData object (so you can use the .min() method), then finds the minimum value in col, and returns it as a DataFrame.\r\n",
                "\r\n",
                "1. Find the length of the shortest (in terms of distance) flight that left PDX by first .filter()ing and using the .min() method. Perform the filtering by referencing the column directly, not passing a SQL string.\r\n",
                "2. Find the length of the longest (in terms of time) flight that left SEA by filter()ing and using the .max() method. Perform the filtering by referencing the column directly, not passing a SQL string."
            ],
            "metadata": {
                "azdata_cell_guid": "22de8a90-fe7f-49d1-ac79-e3c5197dd5a7"
            }
        },
        {
            "cell_type": "code",
            "source": [
                "# Find the shortest flight from PDX in terms of distance\r\n",
                "flights.filter(flights.origin == \"PDX\").groupBy().min(\"distance\").show()\r\n",
                "\r\n",
                "# Find the longest flight from SEA in terms of air time\r\n",
                "flights.filter(flights.origin == \"SEA\").groupBy().max(\"air_time\").show()"
            ],
            "metadata": {
                "azdata_cell_guid": "ca1ff517-5167-41e6-aef9-e9c59ceb7bdc"
            },
            "outputs": [],
            "execution_count": null
        },
        {
            "cell_type": "markdown",
            "source": [
                "1. Use the .avg() method to get the average air time of Delta Airlines flights (where the carrier column has the value \"DL\") that left SEA. The place of departure is stored in the column origin. show() the result.\r\n",
                "2. Use the .sum() method to get the total number of hours all planes in this dataset spent in the air by creating a column called duration_hrs from the column air_time. show() the result."
            ],
            "metadata": {
                "azdata_cell_guid": "b54a491d-4b10-47f1-aad2-1c909348edf7"
            }
        },
        {
            "cell_type": "code",
            "source": [
                "# Average duration of Delta flights\r\n",
                "flights.filter(flights.carrier == \"DL\").filter(flights.origin == \"SEA\").groupBy().avg(\"air_time\").show()\r\n",
                "\r\n",
                "# Total hours in the air\r\n",
                "flights.withColumn(\"duration_hrs\", flights.air_time/60).groupBy().sum(\"duration_hrs\").show()"
            ],
            "metadata": {
                "azdata_cell_guid": "ec34990e-0f6c-4c6e-a05c-778418fe2693"
            },
            "outputs": [],
            "execution_count": null
        },
        {
            "cell_type": "markdown",
            "source": [
                "### Grouping and Aggregating I\r\n",
                "\r\n",
                "Part of what makes aggregating so powerful is the addition of groups. PySpark has a whole class devoted to grouped data frames: `pyspark.sql.GroupedData`, which you saw in the last two exercises.\r\n",
                "\r\n",
                "You've learned how to create a grouped DataFrame by calling the `.groupBy()` method on a DataFrame with no arguments.\r\n",
                "\r\n",
                "Now you'll see that when you pass the name of one or more columns in your DataFrame to the .groupBy() method, the aggregation methods behave like when you use a GROUP BY statement in a SQL query!"
            ],
            "metadata": {
                "azdata_cell_guid": "5574dc0f-81c8-4949-a23f-e713ddc8a6ca"
            }
        },
        {
            "cell_type": "code",
            "source": [
                "# Group by tailnum\r\n",
                "by_plane = flights.groupBy(\"tailnum\")\r\n",
                "\r\n",
                "# Number of flights each plane made\r\n",
                "by_plane.count().show()\r\n",
                "\r\n",
                "# Group by origin\r\n",
                "by_origin = flights.groupBy(\"origin\")\r\n",
                "\r\n",
                "# Average duration of flights from PDX and SEA\r\n",
                "by_origin.avg(\"air_time\").show()"
            ],
            "metadata": {
                "azdata_cell_guid": "143e24cb-4aa8-4901-b4e9-8ecc2ea17fe9"
            },
            "outputs": [],
            "execution_count": null
        },
        {
            "cell_type": "markdown",
            "source": [
                "### Grouping and Aggregating II\r\n",
                "\r\n",
                "In addition to the GroupedData methods you've already seen, there is also the .agg() method. This method lets you pass an aggregate column expression that uses any of the aggregate functions from the pyspark.sql.functions submodule.\r\n",
                "\r\n",
                "This submodule contains many useful functions for computing things like standard deviations. All the aggregation functions in this submodule take the name of a column in a GroupedData table.\r\n",
                "\r\n",
                "Remember, a SparkSession called spark is already in your workspace, along with the Spark DataFrame flights. The grouped DataFrames you created in the last exercise are also in your workspace.\r\n",
                "\r\n",
                "1. Import the submodule pyspark.sql.functions as F.\r\n",
                "2. Create a GroupedData table called by_month_dest that's grouped by both the month and dest columns. Refer to the two columns by passing both strings as separate arguments.\r\n",
                "3. Use the .avg() method on the by_month_dest DataFrame to get the average dep_delay in each month for each destination.\r\n",
                "4. Find the standard deviation of dep_delay by using the .agg() method with the function F.stddev()."
            ],
            "metadata": {
                "azdata_cell_guid": "de6f540d-4ae1-45bb-9550-b06fdad82d1f"
            }
        },
        {
            "cell_type": "code",
            "source": [
                "# Import pyspark.sql.functions as F\r\n",
                "import pyspark.sql.functions as F\r\n",
                "\r\n",
                "# Group by month and dest\r\n",
                "by_month_dest = flights.groupBy(\"month\", \"dest\")\r\n",
                "\r\n",
                "# Average departure delay by month and destination\r\n",
                "by_month_dest.avg(\"dep_delay\").show()\r\n",
                "\r\n",
                "# Standard deviation of departure delay\r\n",
                "by_month_dest.agg(F.stddev(\"dep_delay\")).show()"
            ],
            "metadata": {
                "azdata_cell_guid": "ae790a95-ce5d-47aa-a457-d4b88e6e511d"
            },
            "outputs": [],
            "execution_count": null
        },
        {
            "cell_type": "markdown",
            "source": [
                "### Joining\r\n",
                "\r\n",
                "In PySpark, joins are performed using the DataFrame method `.join()`. This method takes three arguments. The first is the second DataFrame that you want to join with the first one. The second argument, `on`, is the name of the key column(s) as a string. The names of the key column(s) must be the same in each table. The third argument, how, specifies the kind of join to perform. In this course we'll always use the value `how=\"leftouter\"`."
            ],
            "metadata": {
                "azdata_cell_guid": "53a203ed-6ad4-4928-a08a-4bc9b3c28092"
            }
        },
        {
            "cell_type": "code",
            "source": [
                "# Examine the data\r\n",
                "print(airports.show())\r\n",
                "\r\n",
                "# Rename the faa column\r\n",
                "airports = airports.withColumnRenamed(\"faa\", \"dest\")\r\n",
                "\r\n",
                "# Join the DataFrames\r\n",
                "flights_with_airports = flights.join(airports, on = \"dest\", how= \"leftouter\")\r\n",
                "\r\n",
                "# Examine the new DataFrame\r\n",
                "print(flights_with_airports.show())"
            ],
            "metadata": {
                "azdata_cell_guid": "f24febd7-90c5-4591-83c7-b7011d4ce750"
            },
            "outputs": [],
            "execution_count": null
        },
        {
            "cell_type": "markdown",
            "source": [
                "## Machine Learning Pipelines\r\n",
                "\r\n",
                "In the next two chapters you'll step through every stage of the machine learning pipeline, from data intake to model evaluation. Let's get to it!\r\n",
                "\r\n",
                "At the core of the `pyspark.ml` module are the Transformer and Estimator classes. Almost every other class in the module behaves similarly to these two basic classes.\r\n",
                "\r\n",
                "Transformer classes have a `.transform()` method that takes a DataFrame and returns a new DataFrame; usually the original one with a new column appended. For example, you might use the class Bucketizer to create discrete bins from a continuous feature or the class PCA to reduce the dimensionality of your dataset using principal component analysis.\r\n",
                "\r\n",
                "Estimator classes all implement a `.fit()` method. These methods also take a DataFrame, but instead of returning another DataFrame they return a model object. This can be something like a StringIndexerModel for including categorical data saved as strings in your models, or a RandomForestModel that uses the random forest algorithm for classification or regression.\r\n",
                "\r\n",
                "1. First, rename the year column of planes to plane_year to avoid duplicate column names.\r\n",
                "2. Create a new DataFrame called model_data by joining the flights table with planes using the tailnum column as the key."
            ],
            "metadata": {
                "azdata_cell_guid": "dde27260-51a5-4089-9759-22fd16d12a5f"
            }
        },
        {
            "cell_type": "code",
            "source": [
                "# Rename year column\r\n",
                "planes = planes.withColumnRenamed(\"year\",\"plane_year\")\r\n",
                "\r\n",
                "# Join the DataFrames\r\n",
                "model_data = flights.join(planes, on=\"tailnum\", how=\"leftouter\")"
            ],
            "metadata": {
                "azdata_cell_guid": "b1306495-2281-47c9-b1fa-06ac9926f0ac"
            },
            "outputs": [],
            "execution_count": null
        },
        {
            "cell_type": "markdown",
            "source": [
                "## Data Types\r\n",
                "\r\n",
                "Before you get started modeling, it's important to know that Spark only handles numeric data. That means all of the columns in your DataFrame must be either integers or decimals (called 'doubles' in Spark).\r\n",
                "\r\n",
                "When we imported our data, we let Spark guess what kind of information each column held. Unfortunately, Spark doesn't always guess right and you can see that some of the columns in our DataFrame are strings containing numbers as opposed to actual numeric values.\r\n",
                "\r\n",
                "To remedy this, you can use the `.cast()` method in combination with the `.withColumn()` method. It's important to note that `.cast()` works on columns, while `.withColumn()` works on DataFrames.\r\n",
                "\r\n",
                "The only argument you need to pass to `.cast()` is the kind of value you want to create, in string form. For example, to create integers, you'll pass the argument \"integer\" and for decimal numbers you'll use \"double\".\r\n",
                "\r\n",
                "You can put this call to `.cast()` inside a call to `.withColumn()` to overwrite the already existing column\r\n",
                "\r\n",
                "Use the method .withColumn() to .cast() the following columns to type \"integer\". Access the columns using the df.col notation:\r\n",
                "\r\n",
                "1. model_data.arr_delay\r\n",
                "2. model_data.air_time\r\n",
                "3. model_data.month\r\n",
                "4. model_data.plane_year"
            ],
            "metadata": {
                "azdata_cell_guid": "f4a797b7-dd1c-4611-a74b-a1496b87d555"
            }
        },
        {
            "cell_type": "code",
            "source": [
                "# Cast the columns to integers\r\n",
                "model_data = model_data.withColumn(\"arr_delay\", model_data.arr_delay.cast(\"integer\"))\r\n",
                "model_data = model_data.withColumn(\"air_time\", model_data.air_time.cast(\"integer\"))\r\n",
                "model_data = model_data.withColumn(\"month\", model_data.month.cast(\"integer\"))\r\n",
                "model_data = model_data.withColumn(\"plane_year\", model_data.plane_year.cast(\"integer\"))"
            ],
            "metadata": {
                "azdata_cell_guid": "72b76148-e5bd-4ac4-9851-d8cf58b4c169"
            },
            "outputs": [],
            "execution_count": null
        },
        {
            "cell_type": "markdown",
            "source": [
                "Create the column plane_age using the .withColumn() method and subtracting the year of manufacture (column plane_year) from the year (column year) of the flight."
            ],
            "metadata": {
                "azdata_cell_guid": "57b92d4b-1480-4b82-a721-547ce99d993c"
            }
        },
        {
            "cell_type": "code",
            "source": [
                "# Create the column plane_age\r\n",
                "model_data = model_data.withColumn(\"plane_age\", model_data.year - model_data.plane_year)"
            ],
            "metadata": {
                "azdata_cell_guid": "4b2ae0c5-a738-4f51-8fa2-0b25d5a4fdd1"
            },
            "outputs": [],
            "execution_count": null
        },
        {
            "cell_type": "markdown",
            "source": [
                "Making a Boolean\r\n",
                "\r\n",
                "Consider that you're modeling a yes or no question: is the flight late? However, your data contains the arrival delay in minutes for each flight. Thus, you'll need to create a boolean column which indicates whether the flight was late or not!\r\n",
                "\r\n",
                "1. Use the .withColumn() method to create the column is_late. This column is equal to model_data.arr_delay > 0.\r\n",
                "2. Convert this column to an integer column so that you can use it in your model and name it label (this is the default name for the response variable in Spark's machine learning routines).\r\n",
                "3. Filter out missing values (this has been done for you)."
            ],
            "metadata": {
                "azdata_cell_guid": "d99c3b68-0653-4cc3-ac8b-8d838af6069e"
            }
        },
        {
            "cell_type": "code",
            "source": [
                "# Create is_late\r\n",
                "model_data = model_data.withColumn(\"is_late\", model_data.arr_delay > 0)\r\n",
                "\r\n",
                "# Convert to an integer\r\n",
                "model_data = model_data.withColumn(\"label\", model_data.is_late.cast(\"integer\"))\r\n",
                "\r\n",
                "# Remove missing values\r\n",
                "model_data = model_data.filter(\"arr_delay is not NULL and dep_delay is not NULL and air_time is not NULL and plane_year is not NULL\")\r\n",
                ""
            ],
            "metadata": {
                "azdata_cell_guid": "c2ceb001-dc92-4906-8964-0a939f33ab94"
            },
            "outputs": [],
            "execution_count": null
        },
        {
            "cell_type": "markdown",
            "source": [
                "## Strings and factors\r\n",
                "\r\n",
                "As you know, Spark requires numeric data for modeling. So far this hasn't been an issue; even boolean columns can easily be converted to integers without any trouble. But you'll also be using the airline and the plane's destination as features in your model. These are coded as strings and there isn't any obvious way to convert them to a numeric data type.\r\n",
                "\r\n",
                "Fortunately, PySpark has functions for handling this built into the `pyspark.ml.features` submodule. You can create what are called 'one-hot vectors' to represent the carrier and the destination of each flight. A one-hot vector is a way of representing a categorical feature where every observation has a vector in which all elements are zero except for at most one element, which has a value of one (1).\r\n",
                "\r\n",
                "Each element in the vector corresponds to a level of the feature, so it's possible to tell what the right level is by seeing which element of the vector is equal to one (1).\r\n",
                "\r\n",
                "The first step to encoding your categorical feature is to create a `StringIndexer`. Members of this class are `Estimators` that take a DataFrame with a column of strings and map each unique string to a number. Then, the `Estimator` returns a `Transformer` that takes a DataFrame, attaches the mapping to it as metadata, and returns a new DataFrame with a numeric column corresponding to the string column.\r\n",
                "\r\n",
                "The second step is to encode this numeric column as a one-hot vector using a `OneHotEncoder`. This works exactly the same way as the `StringIndexer` by creating an `Estimator` and then a `Transformer`. The end result is a column that encodes your categorical feature as a vector that's suitable for machine learning routines!\r\n",
                "\r\n",
                "This may seem complicated, but don't worry! All you have to remember is that you need to create a StringIndexer and a OneHotEncoder, and the Pipeline will take care of the rest.\r\n",
                "\r\n",
                "In this exercise you'll create a StringIndexer and a OneHotEncoder to code the carrier column. To do this, you'll call the class constructors with the arguments inputCol and outputCol.\r\n",
                "\r\n",
                "The inputCol is the name of the column you want to index or encode, and the outputCol is the name of the new column that the Transformer should create.\r\n",
                "\r\n",
                "1. Create a StringIndexer called carr_indexer by calling StringIndexer() with inputCol=\"carrier\" and outputCol=\"carrier_index\".\r\n",
                "2. Create a OneHotEncoder called carr_encoder by calling OneHotEncoder() with inputCol=\"carrier_index\" and outputCol=\"carrier_fact\"."
            ],
            "metadata": {
                "azdata_cell_guid": "1be2e1ed-e418-4726-9806-322033528beb"
            }
        },
        {
            "cell_type": "code",
            "source": [
                "# Create a StringIndexer\r\n",
                "carr_indexer = StringIndexer(inputCol=\"carrier\", outputCol=\"carrier_index\")\r\n",
                "\r\n",
                "# Create a OneHotEncoder\r\n",
                "carr_encoder = OneHotEncoder(inputCol=\"carrier_index\", outputCol=\"carrier_fact\")"
            ],
            "metadata": {
                "azdata_cell_guid": "36606a13-989f-43c0-a3d6-2329be35e2aa"
            },
            "outputs": [],
            "execution_count": null
        },
        {
            "cell_type": "markdown",
            "source": [
                "Now you'll encode the dest column just like you did in the previous exercise.\r\n",
                "\r\n",
                "1. Create a StringIndexer called dest_indexer by calling StringIndexer() with inputCol=\"dest\" and outputCol=\"dest_index\".\r\n",
                "2. Create a OneHotEncoder called dest_encoder by calling OneHotEncoder() with inputCol=\"dest_index\" and outputCol=\"dest_fact\".\r\n",
                "\r\n",
                ""
            ],
            "metadata": {
                "azdata_cell_guid": "7ca4ef0b-46eb-4eba-ae4a-33bbe32f935c"
            }
        },
        {
            "cell_type": "code",
            "source": [
                "# Create a StringIndexer\r\n",
                "dest_indexer = StringIndexer(inputCol=\"dest\", outputCol=\"dest_index\")\r\n",
                "\r\n",
                "# Create a OneHotEncoder\r\n",
                "dest_encoder = OneHotEncoder(inputCol=\"dest_index\", outputCol=\"dest_fact\")"
            ],
            "metadata": {
                "azdata_cell_guid": "e70ac5a4-37b2-4cff-a6c0-63517ade8374"
            },
            "outputs": [],
            "execution_count": null
        },
        {
            "cell_type": "markdown",
            "source": [
                "### Assemble a vector\r\n",
                "\r\n",
                "The last step in the Pipeline is to combine all of the columns containing our features into a single column. This has to be done before modeling can take place because every Spark modeling routine expects the data to be in this form. You can do this by storing each of the values from a column as an entry in a vector. Then, from the model's point of view, every observation is a vector that contains all of the information about it and a label that tells the modeler what value that observation corresponds to.\r\n",
                "\r\n",
                "Because of this, the pyspark.ml.feature submodule contains a class called VectorAssembler. This Transformer takes all of the columns you specify and combines them into a new vector column.\r\n",
                "\r\n",
                "1. Create a VectorAssembler by calling VectorAssembler() with the inputCols names as a list and the outputCol name \"features\".\r\n",
                "2. The list of columns should be [\"month\", \"air_time\", \"carrier_fact\", \"dest_fact\", \"plane_age\"]"
            ],
            "metadata": {
                "azdata_cell_guid": "64f12273-09ef-4a97-83ad-bb8561378c95"
            }
        },
        {
            "cell_type": "code",
            "source": [
                "# Make a VectorAssembler\r\n",
                "vec_assembler = VectorAssembler(inputCols=[\"month\", \"air_time\", \"carrier_fact\", \"dest_fact\", \"plane_age\"], outputCol=\"features\")"
            ],
            "metadata": {
                "azdata_cell_guid": "ef7cecf4-a0c2-4ed5-940b-4a7a4ce176fb"
            },
            "outputs": [],
            "execution_count": null
        },
        {
            "cell_type": "markdown",
            "source": [
                "### Create the pipeline\r\n",
                "\r\n",
                "Pipeline is a class in the pyspark.ml module that combines all the Estimators and Transformers that you've already created. This lets you reuse the same modeling process over and over again by wrapping it up in one simple object. Neat, right?\r\n",
                "\r\n",
                "1. Import Pipeline from pyspark.ml.\r\n",
                "2. Call the Pipeline() constructor with the keyword argument stages to create a Pipeline called flights_pipe. `stages` should be a list holding all the stages you want your data to go through in the pipeline. Here this is just: [dest_indexer, dest_encoder, carr_indexer, carr_encoder, vec_assembler]"
            ],
            "metadata": {
                "azdata_cell_guid": "ebf234ba-ad75-4ddc-92aa-65580d8f67eb"
            }
        },
        {
            "cell_type": "code",
            "source": [
                "# Import Pipeline\r\n",
                "from pyspark.ml import Pipeline\r\n",
                "\r\n",
                "# Make the pipeline\r\n",
                "flights_pipe = Pipeline(stages=[dest_indexer, dest_encoder, carr_indexer, carr_encoder, vec_assembler])"
            ],
            "metadata": {
                "azdata_cell_guid": "3e288eab-8290-4a0a-9081-784ccb0732a8"
            },
            "outputs": [],
            "execution_count": null
        },
        {
            "cell_type": "markdown",
            "source": [
                "## Test vs Train\r\n",
                "\r\n",
                "After you've cleaned your data and gotten it ready for modeling, one of the most important steps is to split the data into a test set and a train set. After that, don't touch your test data until you think you have a good model! As you're building models and forming hypotheses, you can test them on your training data to get an idea of their performance.\r\n",
                "\r\n",
                "Once you've got your favorite model, you can see how well it predicts the new data in your test set. This never-before-seen data will give you a much more realistic idea of your model's performance in the real world when you're trying to predict or classify new data.By evaluating your model with a test set you can get a good idea of performance on new data.\r\n",
                "press\r\n",
                "\r\n",
                "\r\n",
                "In Spark it's important to make sure you split the data after all the transformations. This is because operations like StringIndexer don't always produce the same index even when given the same list of strings.\r\n",
                "\r\n",
                "1. Create the DataFrame piped_data by calling the Pipeline methods `.fit()` and `.transform()` in a chain. Both of these methods take model_data as their only argument.\r\n",
                "2.Use the DataFrame method `.randomSplit()` to split piped_data into two pieces, training with 60% of the data, and test with 40% of the data by passing the list [.6, .4] to the `.randomSplit()` method."
            ],
            "metadata": {
                "azdata_cell_guid": "bab6c3a1-3ed6-4c62-8416-7b4dd3aafb0b"
            }
        },
        {
            "cell_type": "code",
            "source": [
                "# Fit and transform the data\r\n",
                "piped_data = flights_pipe.fit(model_data).transform(model_data)\r\n",
                "\r\n",
                "# Split the data into training and test sets\r\n",
                "training, test = piped_data.randomSplit([.6, .4])"
            ],
            "metadata": {
                "azdata_cell_guid": "9a3be6a6-5b29-4711-932f-c3f648049187"
            },
            "outputs": [],
            "execution_count": null
        }
    ]
}